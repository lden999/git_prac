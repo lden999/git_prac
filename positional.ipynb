{
 "cells": [
  {
   "cell_type": "code",
   "execution_count": 1,
   "id": "3ce6f220",
   "metadata": {},
   "outputs": [
    {
     "name": "stdout",
     "output_type": "stream",
     "text": [
      "Term            | Postings List (DocID : [positions])\n",
      "------------------------------------------------------------\n",
      "a               | D2: [0]\n",
      "engines         | D4: [1]\n",
      "for             | D4: [5]\n",
      "information     | D1: [0]; D2: [4]; D3: [0]; D4: [6]\n",
      "is              | D1: [2]; D3: [3]\n",
      "key             | D1: [4]\n",
      "powerful        | D3: [4]\n",
      "retrieval       | D1: [1]; D2: [1]; D3: [1]; D4: [3]\n",
      "search          | D1: [6]; D4: [0]\n",
      "stores          | D2: [3]\n",
      "system          | D2: [2]; D3: [2]\n",
      "systems         | D4: [4]\n",
      "the             | D1: [3]\n",
      "to              | D1: [5]\n",
      "use             | D4: [2]\n"
     ]
    }
   ],
   "source": [
    "# Positional Index Construction in Python\n",
    "from collections import defaultdict\n",
    "\n",
    "documents = {\n",
    "    \"D1\": \"information retrieval is the key to search\",\n",
    "    \"D2\": \"a retrieval system stores information\",\n",
    "    \"D3\": \"information retrieval system is powerful\",\n",
    "    \"D4\": \"search engines use retrieval systems for information\"\n",
    "}\n",
    "\n",
    "# Step 1: Build the positional index\n",
    "positional_index = defaultdict(lambda: defaultdict(list))\n",
    "\n",
    "for doc_id, text in documents.items():\n",
    "    words = text.lower().split()\n",
    "    for position, term in enumerate(words):\n",
    "        positional_index[term][doc_id].append(position)\n",
    "\n",
    "# Step 2: Display the positional index\n",
    "print(f\"{'Term':<15} | {'Postings List (DocID : [positions])'}\")\n",
    "print(\"-\" * 60)\n",
    "\n",
    "for term, postings in sorted(positional_index.items()):\n",
    "    postings_str = \"; \".join(f\"{doc}: {positions}\" for doc, positions in postings.items())\n",
    "    print(f\"{term:<15} | {postings_str}\")"
   ]
  },
  {
   "cell_type": "code",
   "execution_count": null,
   "id": "01c1adef",
   "metadata": {},
   "outputs": [],
   "source": []
  }
 ],
 "metadata": {
  "kernelspec": {
   "display_name": "Python 3",
   "language": "python",
   "name": "python3"
  },
  "language_info": {
   "codemirror_mode": {
    "name": "ipython",
    "version": 3
   },
   "file_extension": ".py",
   "mimetype": "text/x-python",
   "name": "python",
   "nbconvert_exporter": "python",
   "pygments_lexer": "ipython3",
   "version": "3.12.3"
  }
 },
 "nbformat": 4,
 "nbformat_minor": 5
}
