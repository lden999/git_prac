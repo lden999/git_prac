{
 "cells": [
  {
   "cell_type": "code",
   "execution_count": 27,
   "id": "73c3b8fe",
   "metadata": {},
   "outputs": [],
   "source": [
    "import pandas as pd\n",
    "import numpy as np\n",
    "from sklearn.decomposition import TruncatedSVD\n",
    "from sklearn.metrics import mean_squared_error, mean_absolute_error\n",
    "from sklearn.model_selection import train_test_split\n",
    "import matplotlib.pyplot as plt\n",
    "%matplotlib inline"
   ]
  },
  {
   "cell_type": "code",
   "execution_count": null,
   "id": "7e418578",
   "metadata": {},
   "outputs": [],
   "source": [
    "\n",
    "data_path = './ml-100k/u.data'\n",
    "cols = ['user_id','item_id','rating','timestamp']\n",
    "df = pd.read_csv(data_path, sep='\\t', names=cols)\n",
    "train_df, test_df = train_test_split(df, test_size=0.2, random_state=42)\n",
    "n_users = int(df.user_id.max())\n",
    "n_items = int(df.item_id.max())\n",
    "print(f'Loaded: total={len(df)} rows; train={len(train_df)} rows, test={len(test_df)} rows')\n",
    "print(f'Users={n_users}, Items={n_items}')"
   ]
  },
  {
   "cell_type": "code",
   "execution_count": null,
   "id": "0b7de770",
   "metadata": {},
   "outputs": [],
   "source": [
    "\n",
    "R_train = np.zeros((n_users, n_items), dtype=float)\n",
    "for u, i, r, _ in train_df.itertuples(index=False):\n",
    "    R_train[int(u)-1, int(i)-1] = r\n",
    "\n",
    "train_mask = R_train > 0\n",
    "R_train.shape"
   ]
  },
  {
   "cell_type": "code",
   "execution_count": null,
   "id": "0757c451",
   "metadata": {},
   "outputs": [],
   "source": [
    "\n",
    "n_components = 50\n",
    "svd = TruncatedSVD(n_components=n_components, random_state=42, n_iter=7)\n",
    "U = svd.fit_transform(R_train)   \n",
    "H = svd.components_              \n",
    "R_pred = U.dot(H)                \n",
    "R_pred = np.clip(R_pred, 1.0, 5.0)"
   ]
  },
  {
   "cell_type": "code",
   "execution_count": null,
   "id": "60a3eac5",
   "metadata": {},
   "outputs": [],
   "source": [
    "\n",
    "y_true = []\n",
    "y_pred = []\n",
    "for u, i, r, _ in test_df.itertuples(index=False):\n",
    "    y_true.append(r)\n",
    "    y_pred.append(R_pred[int(u)-1, int(i)-1])\n",
    "\n",
    "mse = mean_squared_error(y_true, y_pred)\n",
    "rmse = np.sqrt(mse)\n",
    "mae = mean_absolute_error(y_true, y_pred)\n",
    "print(f'Performance on test set -> RMSE: {rmse:.4f}, MAE: {mae:.4f}')"
   ]
  },
  {
   "cell_type": "code",
   "execution_count": null,
   "id": "63f15ff2",
   "metadata": {},
   "outputs": [],
   "source": [
    "\n",
    "user_id = 296\n",
    "item_id = 150\n",
    "pred_value = R_pred[user_id-1, item_id-1]\n",
    "print(f'Predicted rating for user {user_id} on item {item_id}: {pred_value:.2f}')"
   ]
  },
  {
   "cell_type": "code",
   "execution_count": null,
   "id": "4ca2fa18",
   "metadata": {},
   "outputs": [],
   "source": [
    "\n",
    "def get_top_n_from_matrix(R_pred, train_df, user_id, n=5):\n",
    "    user_idx = int(user_id) - 1\n",
    "    rated_items = set(train_df[train_df.user_id == int(user_id)].item_id.tolist())\n",
    "    candidates = [(item_idx+1, R_pred[user_idx, item_idx])\n",
    "                  for item_idx in range(R_pred.shape[1])\n",
    "                  if (item_idx+1) not in rated_items]\n",
    "    candidates.sort(key=lambda x: x[1], reverse=True)\n",
    "    return candidates[:n]\n",
    "\n",
    "top5 = get_top_n_from_matrix(R_pred, train_df, 196, n=5)\n",
    "print('Top 5 recommendations for user 196:')\n",
    "for item, score in top5:\n",
    "    print(f'Item {item}, Predicted rating: {score:.2f}')"
   ]
  },
  {
   "cell_type": "code",
   "execution_count": null,
   "id": "23d9a067",
   "metadata": {},
   "outputs": [],
   "source": []
  }
 ],
 "metadata": {
  "kernelspec": {
   "display_name": "Python 3",
   "language": "python",
   "name": "python3"
  },
  "language_info": {
   "codemirror_mode": {
    "name": "ipython",
    "version": 3
   },
   "file_extension": ".py",
   "mimetype": "text/x-python",
   "name": "python",
   "nbconvert_exporter": "python",
   "pygments_lexer": "ipython3",
   "version": "3.12.3"
  }
 },
 "nbformat": 4,
 "nbformat_minor": 5
}
