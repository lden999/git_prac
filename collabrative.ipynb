{
 "cells": [
  {
   "cell_type": "code",
   "execution_count": null,
   "metadata": {
    "colab": {
     "base_uri": "https://localhost:8080/",
     "height": 408
    },
    "executionInfo": {
     "elapsed": 557,
     "status": "ok",
     "timestamp": 1760444918729,
     "user": {
      "displayName": "PATEL SHIV",
      "userId": "18221086023291031373"
     },
     "user_tz": -330
    },
    "id": "620b7292",
    "outputId": "0ecba1ba-888c-4105-80a1-9af518f2b6b4"
   },
   "outputs": [],
   "source": [
    "import pandas as pd\n",
    "import os\n",
    "import numpy as np\n",
    "#dataset\n",
    "movielens_url = \"http://files.grouplens.org/datasets/movielens/ml-100k.zip\"\n",
    "movielens_dir_path = \"/content/drive/MyDrive/ml-100k/ml-100k\"\n",
    "\n",
    "ratings_df = pd.read_csv(\n",
    "    os.path.join(movielens_dir_path, 'u.data'),\n",
    "    sep='\\t',\n",
    "    header=None,\n",
    "    names=['user_id', 'item_id', 'rating', 'timestamp']\n",
    ")\n",
    "\n",
    "display(ratings_df.head())\n",
    "\n",
    "display(ratings_df.info())"
   ]
  },
  {
   "cell_type": "code",
   "execution_count": null,
   "metadata": {
    "colab": {
     "base_uri": "https://localhost:8080/"
    },
    "executionInfo": {
     "elapsed": 1277,
     "status": "ok",
     "timestamp": 1760444925466,
     "user": {
      "displayName": "PATEL SHIV",
      "userId": "18221086023291031373"
     },
     "user_tz": -330
    },
    "id": "50e12829",
    "outputId": "30b97db3-ff60-46a5-cb1b-84783250add6"
   },
   "outputs": [],
   "source": [
    "from sklearn.model_selection import train_test_split\n",
    "\n",
    "X = ratings_df[['user_id', 'item_id']]\n",
    "y = ratings_df['rating']\n",
    "\n",
    "X_train, X_test, y_train, y_test = train_test_split(X, y, test_size=0.2, random_state=42)\n",
    "\n",
    "print(\"Training set shape (features):\", X_train.shape)\n",
    "print(\"Testing set shape (features):\", X_test.shape)\n",
    "print(\"Training set shape (target):\", y_train.shape)\n",
    "print(\"Testing set shape (target):\", y_test.shape)"
   ]
  },
  {
   "cell_type": "code",
   "execution_count": null,
   "metadata": {
    "colab": {
     "base_uri": "https://localhost:8080/",
     "height": 369
    },
    "executionInfo": {
     "elapsed": 191,
     "status": "ok",
     "timestamp": 1760444926501,
     "user": {
      "displayName": "PATEL SHIV",
      "userId": "18221086023291031373"
     },
     "user_tz": -330
    },
    "id": "atHCqZsgUOSO",
    "outputId": "18efe8fd-08bb-47d5-b1d2-83aa4dad9f36"
   },
   "outputs": [],
   "source": [
    "from sklearn.metrics.pairwise import pairwise_distances\n",
    "\n",
    "\n",
    "train_data = X_train.copy()\n",
    "train_data['rating'] = y_train\n",
    "\n",
    "user_item_matrix = train_data.pivot(index='user_id', columns='item_id', values='rating')\n",
    "\n",
    "user_item_matrix_filled = user_item_matrix.fillna(0)\n",
    "\n",
    "user_similarity = 1 - pairwise_distances(user_item_matrix_filled, metric='cosine')\n",
    "\n",
    "def predict_user_based(user_id, item_id, user_item_matrix, user_similarity):\n",
    "\n",
    "    if user_id not in user_item_matrix.index or item_id not in user_item_matrix.columns:\n",
    "        return None\n",
    "\n",
    "    item_ratings = user_item_matrix[item_id]\n",
    "    rated_by_similar_users = item_ratings[item_ratings > 0].index\n",
    "\n",
    "    user_index = user_item_matrix.index.get_loc(user_id)\n",
    "    user_similarities_with_target = user_similarity[user_index, :]\n",
    "\n",
    "    similar_users_who_rated_item_indices = [user_item_matrix.index.get_loc(uid) for uid in rated_by_similar_users if uid in user_item_matrix.index]\n",
    "    similarities_of_rated_users = user_similarities_with_target[similar_users_who_rated_item_indices]\n",
    "    users_who_rated_item = user_item_matrix.index[similar_users_who_rated_item_indices]\n",
    "\n",
    "    ratings_of_similar_users = item_ratings[users_who_rated_item]\n",
    "\n",
    "    predicted_rating = np.dot(similarities_of_rated_users, ratings_of_similar_users) / np.sum(similarities_of_rated_users)\n",
    "\n",
    "    return predicted_rating\n",
    "\n",
    "\n",
    "display(user_item_matrix.head())\n",
    "display(user_similarity[:5, :5])"
   ]
  },
  {
   "cell_type": "code",
   "execution_count": null,
   "metadata": {
    "colab": {
     "base_uri": "https://localhost:8080/",
     "height": 284
    },
    "executionInfo": {
     "elapsed": 117,
     "status": "ok",
     "timestamp": 1760444927262,
     "user": {
      "displayName": "PATEL SHIV",
      "userId": "18221086023291031373"
     },
     "user_tz": -330
    },
    "id": "fe12cc7f",
    "outputId": "47e746d4-a332-4578-ac62-0d451dd3ee96"
   },
   "outputs": [],
   "source": [
    "import numpy as np\n",
    "from sklearn.metrics.pairwise import cosine_similarity\n",
    "\n",
    "item_user_matrix_filled = user_item_matrix_filled.T\n",
    "\n",
    "item_similarity = cosine_similarity(item_user_matrix_filled)\n",
    "\n",
    "item_similarity_df = pd.DataFrame(item_similarity, index=item_user_matrix_filled.index, columns=item_user_matrix_filled.index)\n",
    "\n",
    "def predict_item_based(user_id, item_id, user_item_matrix, item_similarity_df):\n",
    "   \n",
    "    if user_id not in user_item_matrix.index or item_id not in user_item_matrix.columns:\n",
    "        return None\n",
    "\n",
    "    user_ratings = user_item_matrix.loc[user_id]\n",
    "    rated_items_by_user = user_ratings[user_ratings > 0].index\n",
    "\n",
    "    if item_id not in item_similarity_df.index:\n",
    "        return None\n",
    "    item_similarities_with_target = item_similarity_df.loc[item_id]\n",
    "\n",
    "    similarities_of_rated_items = item_similarities_with_target[rated_items_by_user]\n",
    "\n",
    "    ratings_of_rated_items = user_ratings[rated_items_by_user]\n",
    "\n",
    "    sum_of_similarities = similarities_of_rated_items.sum()\n",
    "    if sum_of_similarities == 0:\n",
    "        return None\n",
    "\n",
    "    predicted_rating = np.dot(similarities_of_rated_items.values, ratings_of_rated_items.values) / sum_of_similarities\n",
    "\n",
    "    return predicted_rating\n",
    "\n",
    "display(item_similarity_df.head())"
   ]
  },
  {
   "cell_type": "code",
   "execution_count": null,
   "metadata": {
    "colab": {
     "base_uri": "https://localhost:8080/"
    },
    "executionInfo": {
     "elapsed": 18718,
     "status": "ok",
     "timestamp": 1760445256294,
     "user": {
      "displayName": "PATEL SHIV",
      "userId": "18221086023291031373"
     },
     "user_tz": -330
    },
    "id": "D09tvj_nUyOW",
    "outputId": "36043a03-5924-4824-9711-59776e8753b1"
   },
   "outputs": [],
   "source": [
    "\n",
    "user_based_predictions_list = []\n",
    "item_based_predictions_list = []\n",
    "for index, row in X_test.iterrows():\n",
    "    user_id = row['user_id']\n",
    "    item_id = row['item_id']\n",
    "\n",
    "    user_pred = predict_user_based(user_id, item_id, user_item_matrix, user_similarity)\n",
    "    item_pred = predict_item_based(user_id, item_id, user_item_matrix, item_similarity_df)\n",
    "\n",
    "    user_based_predictions_list.append(user_pred)\n",
    "    item_based_predictions_list.append(item_pred)\n",
    "\n",
    "# Convert lists to NumPy arrays with float dtype, handling None by default as NaN\n",
    "user_based_predictions = np.array(user_based_predictions_list, dtype=np.float64)\n",
    "item_based_predictions = np.array(item_based_predictions_list, dtype=np.float64)\n",
    "\n",
    "# Replace NaN values with 0\n",
    "user_based_predictions = np.nan_to_num(user_based_predictions, nan=0)\n",
    "item_based_predictions = np.nan_to_num(item_based_predictions, nan=0)\n",
    "\n",
    "# Filter out predictions that were originally NaN (now 0) and their corresponding y_test values\n",
    "valid_user_predictions_indices = np.where(user_based_predictions != 0)[0]\n",
    "valid_user_predictions = user_based_predictions[valid_user_predictions_indices]\n",
    "valid_y_test_user = y_test.iloc[valid_user_predictions_indices]\n",
    "\n",
    "valid_item_predictions_indices = np.where(item_based_predictions != 0)[0]\n",
    "valid_item_predictions = item_based_predictions[valid_item_predictions_indices]\n",
    "valid_y_test_item = y_test.iloc[valid_item_predictions_indices]\n",
    "\n",
    "def mean_squared_error(y_true, y_pred):\n",
    "    return np.mean((y_true - y_pred) ** 2)\n",
    "\n",
    "# MSE for user-based\n",
    "user_based_mse = mean_squared_error(valid_y_test_user, valid_user_predictions)\n",
    "\n",
    "user_based_rmse = np.sqrt(user_based_mse)\n",
    "\n",
    "item_based_mse = mean_squared_error(valid_y_test_item, valid_item_predictions)\n",
    "\n",
    "item_based_rmse = np.sqrt(item_based_mse)\n",
    "\n",
    "print(f\"User-based collaborative filtering RMSE: {user_based_rmse}\")\n",
    "print(f\"Item-based collaborative filtering RMSE: {item_based_rmse}\")"
   ]
  },
  {
   "cell_type": "code",
   "execution_count": null,
   "metadata": {
    "id": "9r47WCCitc2d"
   },
   "outputs": [],
   "source": []
  }
 ],
 "metadata": {
  "colab": {
   "provenance": []
  },
  "kernelspec": {
   "display_name": "Python 3",
   "name": "python3"
  },
  "language_info": {
   "name": "python"
  }
 },
 "nbformat": 4,
 "nbformat_minor": 0
}
